{
 "cells": [
  {
   "cell_type": "code",
   "execution_count": 1,
   "metadata": {},
   "outputs": [],
   "source": [
    "import os\n",
    "import pandas as pd\n",
    "import numpy as np\n",
    "import time\n",
    "import turicreate"
   ]
  },
  {
   "cell_type": "code",
   "execution_count": 2,
   "metadata": {},
   "outputs": [],
   "source": [
    "t_start = time.time()"
   ]
  },
  {
   "cell_type": "code",
   "execution_count": 3,
   "metadata": {},
   "outputs": [],
   "source": [
    "#Buat directory submission dan model\n",
    "try:\n",
    "    os.mkdir('submission')\n",
    "except:\n",
    "    pass\n",
    "try:\n",
    "    os.mkdir('model')\n",
    "except:\n",
    "    pass"
   ]
  },
  {
   "cell_type": "markdown",
   "metadata": {},
   "source": [
    "# Load Dataset"
   ]
  },
  {
   "cell_type": "code",
   "execution_count": 4,
   "metadata": {},
   "outputs": [],
   "source": [
    "#Dataset\n",
    "cd_train = pd.read_csv('dataset/coupon_detail_train.csv')\n",
    "cl_test = pd.read_csv('dataset/coupon_list_test.csv')\n",
    "cl_train = pd.read_csv('dataset/coupon_list_train.csv')\n",
    "cv_train = pd.read_csv('dataset/coupon_visit_train.csv')\n",
    "user_list = pd.read_csv('dataset/user_list.csv')"
   ]
  },
  {
   "cell_type": "markdown",
   "metadata": {},
   "source": [
    "# Preprocessing"
   ]
  },
  {
   "cell_type": "code",
   "execution_count": 5,
   "metadata": {},
   "outputs": [
    {
     "name": "stdout",
     "output_type": "stream",
     "text": [
      "741\n"
     ]
    },
    {
     "data": {
      "text/html": [
       "<div>\n",
       "<style scoped>\n",
       "    .dataframe tbody tr th:only-of-type {\n",
       "        vertical-align: middle;\n",
       "    }\n",
       "\n",
       "    .dataframe tbody tr th {\n",
       "        vertical-align: top;\n",
       "    }\n",
       "\n",
       "    .dataframe thead th {\n",
       "        text-align: right;\n",
       "    }\n",
       "</style>\n",
       "<table border=\"1\" class=\"dataframe\">\n",
       "  <thead>\n",
       "    <tr style=\"text-align: right;\">\n",
       "      <th></th>\n",
       "      <th>USER_ID_hash</th>\n",
       "      <th>COUPON_ID_hash</th>\n",
       "    </tr>\n",
       "  </thead>\n",
       "  <tbody>\n",
       "    <tr>\n",
       "      <th>0</th>\n",
       "      <td>118d41a61656bbfe22ee73294f45289c</td>\n",
       "      <td>7d7487370022eb18ee130856aa1c6eec</td>\n",
       "    </tr>\n",
       "    <tr>\n",
       "      <th>1</th>\n",
       "      <td>7afc4e216672636f61dfbad40d9816c6</td>\n",
       "      <td>7d7487370022eb18ee130856aa1c6eec</td>\n",
       "    </tr>\n",
       "    <tr>\n",
       "      <th>2</th>\n",
       "      <td>32f93b1872c1fe4e7e590d0305a3f02d</td>\n",
       "      <td>7d7487370022eb18ee130856aa1c6eec</td>\n",
       "    </tr>\n",
       "    <tr>\n",
       "      <th>3</th>\n",
       "      <td>cd017554ad7e16899df7b004a7321863</td>\n",
       "      <td>7d7487370022eb18ee130856aa1c6eec</td>\n",
       "    </tr>\n",
       "    <tr>\n",
       "      <th>4</th>\n",
       "      <td>cd017554ad7e16899df7b004a7321863</td>\n",
       "      <td>7d7487370022eb18ee130856aa1c6eec</td>\n",
       "    </tr>\n",
       "  </tbody>\n",
       "</table>\n",
       "</div>"
      ],
      "text/plain": [
       "                       USER_ID_hash                    COUPON_ID_hash\n",
       "0  118d41a61656bbfe22ee73294f45289c  7d7487370022eb18ee130856aa1c6eec\n",
       "1  7afc4e216672636f61dfbad40d9816c6  7d7487370022eb18ee130856aa1c6eec\n",
       "2  32f93b1872c1fe4e7e590d0305a3f02d  7d7487370022eb18ee130856aa1c6eec\n",
       "3  cd017554ad7e16899df7b004a7321863  7d7487370022eb18ee130856aa1c6eec\n",
       "4  cd017554ad7e16899df7b004a7321863  7d7487370022eb18ee130856aa1c6eec"
      ]
     },
     "execution_count": 5,
     "metadata": {},
     "output_type": "execute_result"
    }
   ],
   "source": [
    "#list kupon test yang pernah divisit user\n",
    "\n",
    "visited_test = cv_train[['USER_ID_hash','VIEW_COUPON_ID_hash']].merge(cl_test['COUPON_ID_hash'], how='inner', left_on='VIEW_COUPON_ID_hash', right_on='COUPON_ID_hash').drop('VIEW_COUPON_ID_hash', axis=1)\n",
    "print(len(visited_test))\n",
    "visited_test.head(5)"
   ]
  },
  {
   "cell_type": "code",
   "execution_count": 6,
   "metadata": {},
   "outputs": [
    {
     "name": "stdout",
     "output_type": "stream",
     "text": [
      "158933\n"
     ]
    },
    {
     "data": {
      "text/html": [
       "<div>\n",
       "<style scoped>\n",
       "    .dataframe tbody tr th:only-of-type {\n",
       "        vertical-align: middle;\n",
       "    }\n",
       "\n",
       "    .dataframe tbody tr th {\n",
       "        vertical-align: top;\n",
       "    }\n",
       "\n",
       "    .dataframe thead th {\n",
       "        text-align: right;\n",
       "    }\n",
       "</style>\n",
       "<table border=\"1\" class=\"dataframe\">\n",
       "  <thead>\n",
       "    <tr style=\"text-align: right;\">\n",
       "      <th></th>\n",
       "      <th>USER_ID_hash</th>\n",
       "      <th>COUPON_ID_hash</th>\n",
       "      <th>PURCHASE_COUNT</th>\n",
       "    </tr>\n",
       "  </thead>\n",
       "  <tbody>\n",
       "    <tr>\n",
       "      <th>0</th>\n",
       "      <td>0000b53e182165208887ba65c079fc21</td>\n",
       "      <td>38beeadfe3f97e640367eddae4a8c1b5</td>\n",
       "      <td>1</td>\n",
       "    </tr>\n",
       "    <tr>\n",
       "      <th>1</th>\n",
       "      <td>00035b86e6884589ec8d28fbf2fe7757</td>\n",
       "      <td>25a27d420caa1c46a8d3c0572d27868a</td>\n",
       "      <td>1</td>\n",
       "    </tr>\n",
       "    <tr>\n",
       "      <th>2</th>\n",
       "      <td>0005b1068d5f2b8f2a7c978fcfe1ca06</td>\n",
       "      <td>4a79cd05ecb2bf8672e1d955f5faa7fa</td>\n",
       "      <td>1</td>\n",
       "    </tr>\n",
       "    <tr>\n",
       "      <th>3</th>\n",
       "      <td>0005b1068d5f2b8f2a7c978fcfe1ca06</td>\n",
       "      <td>f0f66195d527a5a9509e139ed367b879</td>\n",
       "      <td>1</td>\n",
       "    </tr>\n",
       "    <tr>\n",
       "      <th>4</th>\n",
       "      <td>000cc06982785a19e2a2fdb40b1c9d59</td>\n",
       "      <td>229ff5cc21c8d26615493be7f3b42841</td>\n",
       "      <td>1</td>\n",
       "    </tr>\n",
       "  </tbody>\n",
       "</table>\n",
       "</div>"
      ],
      "text/plain": [
       "                       USER_ID_hash                    COUPON_ID_hash  \\\n",
       "0  0000b53e182165208887ba65c079fc21  38beeadfe3f97e640367eddae4a8c1b5   \n",
       "1  00035b86e6884589ec8d28fbf2fe7757  25a27d420caa1c46a8d3c0572d27868a   \n",
       "2  0005b1068d5f2b8f2a7c978fcfe1ca06  4a79cd05ecb2bf8672e1d955f5faa7fa   \n",
       "3  0005b1068d5f2b8f2a7c978fcfe1ca06  f0f66195d527a5a9509e139ed367b879   \n",
       "4  000cc06982785a19e2a2fdb40b1c9d59  229ff5cc21c8d26615493be7f3b42841   \n",
       "\n",
       "   PURCHASE_COUNT  \n",
       "0               1  \n",
       "1               1  \n",
       "2               1  \n",
       "3               1  \n",
       "4               1  "
      ]
     },
     "execution_count": 6,
     "metadata": {},
     "output_type": "execute_result"
    }
   ],
   "source": [
    "#list kupon yang pernah dibeli user + total pembelian\n",
    "\n",
    "user_coupon_pcount = cd_train.groupby(['USER_ID_hash', 'COUPON_ID_hash'])['PURCHASEID_hash'].size().reset_index(name='PURCHASE_COUNT')\n",
    "print(len(user_coupon_pcount))\n",
    "user_coupon_pcount.head(5)"
   ]
  },
  {
   "cell_type": "code",
   "execution_count": 7,
   "metadata": {},
   "outputs": [],
   "source": [
    "#Drop fitur yang tidak terpakai\n",
    "\n",
    "cl_train.drop(['DISPFROM','DISPEND','VALIDFROM','VALIDEND'],axis=1,inplace=True)\n",
    "cl_test.drop(['DISPFROM','DISPEND','VALIDFROM','VALIDEND'],axis=1,inplace=True)"
   ]
  },
  {
   "cell_type": "code",
   "execution_count": 8,
   "metadata": {},
   "outputs": [],
   "source": [
    "#Fillna VALIDPERIOD, USABLE_DATE_n\n",
    "\n",
    "cl_train.fillna(-1, inplace=True)\n",
    "cl_test.fillna(-1, inplace=True)"
   ]
  },
  {
   "cell_type": "code",
   "execution_count": 9,
   "metadata": {},
   "outputs": [],
   "source": [
    "#Fungsi untuk quantize VALIDPERIOD dan DISPPERIOD dalam:\n",
    "#-1 : Null\n",
    "#0 : Dibawah seminggu\n",
    "#1 : 1-2 minggu\n",
    "#2 : 2-4 minggu\n",
    "#3 : di atas sebulan\n",
    "def quantizePeriod(period):\n",
    "    if period == -1:\n",
    "        return period\n",
    "    elif period <=7:\n",
    "        return 0\n",
    "    elif period <=14:\n",
    "        return 1\n",
    "    elif period <= 30:\n",
    "        return 2\n",
    "    else:\n",
    "        return 3"
   ]
  },
  {
   "cell_type": "code",
   "execution_count": 10,
   "metadata": {},
   "outputs": [],
   "source": [
    "cl_train['DISPPERIOD'] = cl_train.apply(lambda x: quantizePeriod(x.DISPPERIOD), axis=1)\n",
    "cl_test['DISPPERIOD'] = cl_test.apply(lambda x: quantizePeriod(x.DISPPERIOD), axis=1)\n",
    "cl_train['VALIDPERIOD'] = cl_train.apply(lambda x: quantizePeriod(x.VALIDPERIOD), axis=1)\n",
    "cl_test['VALIDPERIOD'] = cl_test.apply(lambda x: quantizePeriod(x.VALIDPERIOD), axis=1)\n",
    "\n",
    "cl_train['DISPPERIOD'] = cl_train['DISPPERIOD'].astype('str')\n",
    "cl_test['DISPPERIOD'] = cl_test['DISPPERIOD'].astype('str')\n",
    "cl_train['VALIDPERIOD'] = cl_train['VALIDPERIOD'].astype('str')\n",
    "cl_test['VALIDPERIOD'] = cl_test['VALIDPERIOD'].astype('str')"
   ]
  },
  {
   "cell_type": "code",
   "execution_count": 11,
   "metadata": {},
   "outputs": [],
   "source": [
    "#Normalisasi harga dengan log function\n",
    "cl_train['CATALOG_PRICE'] = np.log(1+cl_train['CATALOG_PRICE'])\n",
    "cl_train['DISCOUNT_PRICE'] = np.log(1+cl_train['DISCOUNT_PRICE'])\n",
    "\n",
    "cl_test['CATALOG_PRICE'] = np.log(1+cl_test['CATALOG_PRICE'])\n",
    "cl_test['DISCOUNT_PRICE'] = np.log(1+cl_test['DISCOUNT_PRICE'])"
   ]
  },
  {
   "cell_type": "code",
   "execution_count": 12,
   "metadata": {},
   "outputs": [],
   "source": [
    "#Ubah Fitur USABLE_DATE_n menjadi categorical\n",
    "UD_features = ['USABLE_DATE_MON', 'USABLE_DATE_TUE','USABLE_DATE_WED','USABLE_DATE_THU', 'USABLE_DATE_FRI','USABLE_DATE_SAT','USABLE_DATE_SUN','USABLE_DATE_HOLIDAY','USABLE_DATE_BEFORE_HOLIDAY']\n",
    "\n",
    "cl_train[UD_features] = cl_train[UD_features].astype('str')\n",
    "cl_test[UD_features] = cl_test[UD_features].astype('str')"
   ]
  },
  {
   "cell_type": "markdown",
   "metadata": {},
   "source": [
    "# Convert Data to SFrame"
   ]
  },
  {
   "cell_type": "code",
   "execution_count": 13,
   "metadata": {},
   "outputs": [],
   "source": [
    "#Ubah kedalam SFrame\n",
    "#on .create\n",
    "observation_data = turicreate.SFrame(user_coupon_pcount)\n",
    "\n",
    "item_data = turicreate.SFrame(pd.concat([cl_train,cl_test]))"
   ]
  },
  {
   "cell_type": "code",
   "execution_count": 14,
   "metadata": {},
   "outputs": [],
   "source": [
    "#Ubah kedalam SFrame\n",
    "#on .recommend\n",
    "users = turicreate.SFrame(user_list[['USER_ID_hash']])\n",
    "\n",
    "items = turicreate.SFrame(cl_test[['COUPON_ID_hash']])"
   ]
  },
  {
   "cell_type": "markdown",
   "metadata": {},
   "source": [
    "# Fitting"
   ]
  },
  {
   "cell_type": "code",
   "execution_count": 15,
   "metadata": {
    "scrolled": true
   },
   "outputs": [
    {
     "name": "stdout",
     "output_type": "stream",
     "text": [
      "Applying transform:\n",
      "Class             : AutoVectorizer\n",
      "\n",
      "Model Fields\n",
      "------------\n",
      "Features          : ['CAPSULE_TEXT', 'GENRE_NAME', 'PRICE_RATE', 'CATALOG_PRICE', 'DISCOUNT_PRICE', 'DISPPERIOD', 'VALIDPERIOD', 'USABLE_DATE_MON', 'USABLE_DATE_TUE', 'USABLE_DATE_WED', 'USABLE_DATE_THU', 'USABLE_DATE_FRI', 'USABLE_DATE_SAT', 'USABLE_DATE_SUN', 'USABLE_DATE_HOLIDAY', 'USABLE_DATE_BEFORE_HOLIDAY', 'large_area_name', 'ken_name', 'small_area_name']\n",
      "Excluded Features : ['COUPON_ID_hash']\n",
      "\n",
      "Column                      Type   Interpretation  Transforms  Output Type\n",
      "--------------------------  -----  --------------  ----------  -----------\n",
      "CAPSULE_TEXT                str    categorical     None        str        \n",
      "GENRE_NAME                  str    categorical     None        str        \n",
      "PRICE_RATE                  int    numerical       None        int        \n",
      "CATALOG_PRICE               float  numerical       None        float      \n",
      "DISCOUNT_PRICE              float  numerical       None        float      \n",
      "DISPPERIOD                  str    categorical     None        str        \n",
      "VALIDPERIOD                 str    categorical     None        str        \n",
      "USABLE_DATE_MON             str    categorical     None        str        \n",
      "USABLE_DATE_TUE             str    categorical     None        str        \n",
      "USABLE_DATE_WED             str    categorical     None        str        \n",
      "USABLE_DATE_THU             str    categorical     None        str        \n",
      "USABLE_DATE_FRI             str    categorical     None        str        \n",
      "USABLE_DATE_SAT             str    categorical     None        str        \n",
      "USABLE_DATE_SUN             str    categorical     None        str        \n",
      "USABLE_DATE_HOLIDAY         str    categorical     None        str        \n",
      "USABLE_DATE_BEFORE_HOLIDAY  str    categorical     None        str        \n",
      "large_area_name             str    categorical     None        str        \n",
      "ken_name                    str    categorical     None        str        \n",
      "small_area_name             str    categorical     None        str        \n",
      "\n",
      "\n",
      "Defaulting to brute force instead of ball tree because there are multiple distance components.\n"
     ]
    },
    {
     "data": {
      "text/html": [
       "<pre>Starting brute force nearest neighbors model training.</pre>"
      ],
      "text/plain": [
       "Starting brute force nearest neighbors model training."
      ]
     },
     "metadata": {},
     "output_type": "display_data"
    },
    {
     "data": {
      "text/html": [
       "<pre>Validating distance components.</pre>"
      ],
      "text/plain": [
       "Validating distance components."
      ]
     },
     "metadata": {},
     "output_type": "display_data"
    },
    {
     "data": {
      "text/html": [
       "<pre>Initializing model data.</pre>"
      ],
      "text/plain": [
       "Initializing model data."
      ]
     },
     "metadata": {},
     "output_type": "display_data"
    },
    {
     "data": {
      "text/html": [
       "<pre>Initializing distances.</pre>"
      ],
      "text/plain": [
       "Initializing distances."
      ]
     },
     "metadata": {},
     "output_type": "display_data"
    },
    {
     "data": {
      "text/html": [
       "<pre>Done.</pre>"
      ],
      "text/plain": [
       "Done."
      ]
     },
     "metadata": {},
     "output_type": "display_data"
    },
    {
     "data": {
      "text/html": [
       "<pre>Starting pairwise querying.</pre>"
      ],
      "text/plain": [
       "Starting pairwise querying."
      ]
     },
     "metadata": {},
     "output_type": "display_data"
    },
    {
     "data": {
      "text/html": [
       "<pre>+--------------+---------+-------------+--------------+</pre>"
      ],
      "text/plain": [
       "+--------------+---------+-------------+--------------+"
      ]
     },
     "metadata": {},
     "output_type": "display_data"
    },
    {
     "data": {
      "text/html": [
       "<pre>| Query points | # Pairs | % Complete. | Elapsed Time |</pre>"
      ],
      "text/plain": [
       "| Query points | # Pairs | % Complete. | Elapsed Time |"
      ]
     },
     "metadata": {},
     "output_type": "display_data"
    },
    {
     "data": {
      "text/html": [
       "<pre>+--------------+---------+-------------+--------------+</pre>"
      ],
      "text/plain": [
       "+--------------+---------+-------------+--------------+"
      ]
     },
     "metadata": {},
     "output_type": "display_data"
    },
    {
     "data": {
      "text/html": [
       "<pre>| 1            | 19723   | 0.00507022  | 32.595ms     |</pre>"
      ],
      "text/plain": [
       "| 1            | 19723   | 0.00507022  | 32.595ms     |"
      ]
     },
     "metadata": {},
     "output_type": "display_data"
    },
    {
     "data": {
      "text/html": [
       "<pre>| 2249         | 4.4e+07 | 11.4029     | 3.04s        |</pre>"
      ],
      "text/plain": [
       "| 2249         | 4.4e+07 | 11.4029     | 3.04s        |"
      ]
     },
     "metadata": {},
     "output_type": "display_data"
    },
    {
     "data": {
      "text/html": [
       "<pre>| 4462         |         | 22.6233     | 6.03s        |</pre>"
      ],
      "text/plain": [
       "| 4462         |         | 22.6233     | 6.03s        |"
      ]
     },
     "metadata": {},
     "output_type": "display_data"
    },
    {
     "data": {
      "text/html": [
       "<pre>| 6286         | 1.2e+08 | 31.8714     | 9.04s        |</pre>"
      ],
      "text/plain": [
       "| 6286         | 1.2e+08 | 31.8714     | 9.04s        |"
      ]
     },
     "metadata": {},
     "output_type": "display_data"
    },
    {
     "data": {
      "text/html": [
       "<pre>| 8512         | 1.7e+08 | 43.1577     | 12.04s       |</pre>"
      ],
      "text/plain": [
       "| 8512         | 1.7e+08 | 43.1577     | 12.04s       |"
      ]
     },
     "metadata": {},
     "output_type": "display_data"
    },
    {
     "data": {
      "text/html": [
       "<pre>| 11016        | 2.2e+08 | 55.8536     | 15.05s       |</pre>"
      ],
      "text/plain": [
       "| 11016        | 2.2e+08 | 55.8536     | 15.05s       |"
      ]
     },
     "metadata": {},
     "output_type": "display_data"
    },
    {
     "data": {
      "text/html": [
       "<pre>| 13364        | 2.6e+08 | 67.7585     | 18.04s       |</pre>"
      ],
      "text/plain": [
       "| 13364        | 2.6e+08 | 67.7585     | 18.04s       |"
      ]
     },
     "metadata": {},
     "output_type": "display_data"
    },
    {
     "data": {
      "text/html": [
       "<pre>| 15820        | 3.1e+08 | 80.2109     | 21.04s       |</pre>"
      ],
      "text/plain": [
       "| 15820        | 3.1e+08 | 80.2109     | 21.04s       |"
      ]
     },
     "metadata": {},
     "output_type": "display_data"
    },
    {
     "data": {
      "text/html": [
       "<pre>| 18259        | 3.6e+08 | 92.5772     | 24.05s       |</pre>"
      ],
      "text/plain": [
       "| 18259        | 3.6e+08 | 92.5772     | 24.05s       |"
      ]
     },
     "metadata": {},
     "output_type": "display_data"
    },
    {
     "data": {
      "text/html": [
       "<pre>| Done         |         | 100         | 26.21s       |</pre>"
      ],
      "text/plain": [
       "| Done         |         | 100         | 26.21s       |"
      ]
     },
     "metadata": {},
     "output_type": "display_data"
    },
    {
     "data": {
      "text/html": [
       "<pre>+--------------+---------+-------------+--------------+</pre>"
      ],
      "text/plain": [
       "+--------------+---------+-------------+--------------+"
      ]
     },
     "metadata": {},
     "output_type": "display_data"
    },
    {
     "data": {
      "text/html": [
       "<pre>Preparing data set.</pre>"
      ],
      "text/plain": [
       "Preparing data set."
      ]
     },
     "metadata": {},
     "output_type": "display_data"
    },
    {
     "data": {
      "text/html": [
       "<pre>    Data has 158933 observations with 22782 users and 19723 items.</pre>"
      ],
      "text/plain": [
       "    Data has 158933 observations with 22782 users and 19723 items."
      ]
     },
     "metadata": {},
     "output_type": "display_data"
    },
    {
     "data": {
      "text/html": [
       "<pre>    Data prepared in: 0.401101s</pre>"
      ],
      "text/plain": [
       "    Data prepared in: 0.401101s"
      ]
     },
     "metadata": {},
     "output_type": "display_data"
    },
    {
     "data": {
      "text/html": [
       "<pre>Loading user-provided nearest items.</pre>"
      ],
      "text/plain": [
       "Loading user-provided nearest items."
      ]
     },
     "metadata": {},
     "output_type": "display_data"
    },
    {
     "data": {
      "text/html": [
       "<pre>Generating candidate set for working with new users.</pre>"
      ],
      "text/plain": [
       "Generating candidate set for working with new users."
      ]
     },
     "metadata": {},
     "output_type": "display_data"
    },
    {
     "data": {
      "text/html": [
       "<pre>Finished training in 0.036395s</pre>"
      ],
      "text/plain": [
       "Finished training in 0.036395s"
      ]
     },
     "metadata": {},
     "output_type": "display_data"
    }
   ],
   "source": [
    "model = turicreate.recommender.item_content_recommender.create(item_data=item_data, observation_data=observation_data, item_id='COUPON_ID_hash', user_id='USER_ID_hash', target='PURCHASE_COUNT', similarity_metrics='auto', item_data_transform='auto', verbose=True)\n",
    "model.save('model/Turi_ItemContentRec_Model.mdl') #Bentuknya folder\n",
    "\n",
    "#Load Model : turicreate.load_model('model/Turi_ItemContentRec_Model.mdl')"
   ]
  },
  {
   "cell_type": "markdown",
   "metadata": {},
   "source": [
    "# Recommend"
   ]
  },
  {
   "cell_type": "code",
   "execution_count": 16,
   "metadata": {
    "scrolled": true
   },
   "outputs": [
    {
     "data": {
      "text/html": [
       "<pre>recommendations finished on 1000/22873 queries. users per second: 48683.1</pre>"
      ],
      "text/plain": [
       "recommendations finished on 1000/22873 queries. users per second: 48683.1"
      ]
     },
     "metadata": {},
     "output_type": "display_data"
    },
    {
     "data": {
      "text/html": [
       "<pre>recommendations finished on 2000/22873 queries. users per second: 48579.1</pre>"
      ],
      "text/plain": [
       "recommendations finished on 2000/22873 queries. users per second: 48579.1"
      ]
     },
     "metadata": {},
     "output_type": "display_data"
    },
    {
     "data": {
      "text/html": [
       "<pre>recommendations finished on 3000/22873 queries. users per second: 47005.7</pre>"
      ],
      "text/plain": [
       "recommendations finished on 3000/22873 queries. users per second: 47005.7"
      ]
     },
     "metadata": {},
     "output_type": "display_data"
    },
    {
     "data": {
      "text/html": [
       "<pre>recommendations finished on 4000/22873 queries. users per second: 46531.6</pre>"
      ],
      "text/plain": [
       "recommendations finished on 4000/22873 queries. users per second: 46531.6"
      ]
     },
     "metadata": {},
     "output_type": "display_data"
    },
    {
     "data": {
      "text/html": [
       "<pre>recommendations finished on 5000/22873 queries. users per second: 45115.8</pre>"
      ],
      "text/plain": [
       "recommendations finished on 5000/22873 queries. users per second: 45115.8"
      ]
     },
     "metadata": {},
     "output_type": "display_data"
    },
    {
     "data": {
      "text/html": [
       "<pre>recommendations finished on 6000/22873 queries. users per second: 40232.8</pre>"
      ],
      "text/plain": [
       "recommendations finished on 6000/22873 queries. users per second: 40232.8"
      ]
     },
     "metadata": {},
     "output_type": "display_data"
    },
    {
     "data": {
      "text/html": [
       "<pre>recommendations finished on 7000/22873 queries. users per second: 39740</pre>"
      ],
      "text/plain": [
       "recommendations finished on 7000/22873 queries. users per second: 39740"
      ]
     },
     "metadata": {},
     "output_type": "display_data"
    },
    {
     "data": {
      "text/html": [
       "<pre>recommendations finished on 8000/22873 queries. users per second: 40049.5</pre>"
      ],
      "text/plain": [
       "recommendations finished on 8000/22873 queries. users per second: 40049.5"
      ]
     },
     "metadata": {},
     "output_type": "display_data"
    },
    {
     "data": {
      "text/html": [
       "<pre>recommendations finished on 9000/22873 queries. users per second: 40383.4</pre>"
      ],
      "text/plain": [
       "recommendations finished on 9000/22873 queries. users per second: 40383.4"
      ]
     },
     "metadata": {},
     "output_type": "display_data"
    },
    {
     "data": {
      "text/html": [
       "<pre>recommendations finished on 10000/22873 queries. users per second: 40930.9</pre>"
      ],
      "text/plain": [
       "recommendations finished on 10000/22873 queries. users per second: 40930.9"
      ]
     },
     "metadata": {},
     "output_type": "display_data"
    },
    {
     "data": {
      "text/html": [
       "<pre>recommendations finished on 11000/22873 queries. users per second: 40321.4</pre>"
      ],
      "text/plain": [
       "recommendations finished on 11000/22873 queries. users per second: 40321.4"
      ]
     },
     "metadata": {},
     "output_type": "display_data"
    },
    {
     "data": {
      "text/html": [
       "<pre>recommendations finished on 12000/22873 queries. users per second: 26937.8</pre>"
      ],
      "text/plain": [
       "recommendations finished on 12000/22873 queries. users per second: 26937.8"
      ]
     },
     "metadata": {},
     "output_type": "display_data"
    },
    {
     "data": {
      "text/html": [
       "<pre>recommendations finished on 13000/22873 queries. users per second: 26956.9</pre>"
      ],
      "text/plain": [
       "recommendations finished on 13000/22873 queries. users per second: 26956.9"
      ]
     },
     "metadata": {},
     "output_type": "display_data"
    },
    {
     "data": {
      "text/html": [
       "<pre>recommendations finished on 14000/22873 queries. users per second: 27640.6</pre>"
      ],
      "text/plain": [
       "recommendations finished on 14000/22873 queries. users per second: 27640.6"
      ]
     },
     "metadata": {},
     "output_type": "display_data"
    },
    {
     "data": {
      "text/html": [
       "<pre>recommendations finished on 15000/22873 queries. users per second: 28449.5</pre>"
      ],
      "text/plain": [
       "recommendations finished on 15000/22873 queries. users per second: 28449.5"
      ]
     },
     "metadata": {},
     "output_type": "display_data"
    },
    {
     "data": {
      "text/html": [
       "<pre>recommendations finished on 16000/22873 queries. users per second: 29204.4</pre>"
      ],
      "text/plain": [
       "recommendations finished on 16000/22873 queries. users per second: 29204.4"
      ]
     },
     "metadata": {},
     "output_type": "display_data"
    },
    {
     "data": {
      "text/html": [
       "<pre>recommendations finished on 17000/22873 queries. users per second: 29945</pre>"
      ],
      "text/plain": [
       "recommendations finished on 17000/22873 queries. users per second: 29945"
      ]
     },
     "metadata": {},
     "output_type": "display_data"
    },
    {
     "data": {
      "text/html": [
       "<pre>recommendations finished on 18000/22873 queries. users per second: 30605.6</pre>"
      ],
      "text/plain": [
       "recommendations finished on 18000/22873 queries. users per second: 30605.6"
      ]
     },
     "metadata": {},
     "output_type": "display_data"
    },
    {
     "data": {
      "text/html": [
       "<pre>recommendations finished on 19000/22873 queries. users per second: 31184.6</pre>"
      ],
      "text/plain": [
       "recommendations finished on 19000/22873 queries. users per second: 31184.6"
      ]
     },
     "metadata": {},
     "output_type": "display_data"
    },
    {
     "data": {
      "text/html": [
       "<pre>recommendations finished on 20000/22873 queries. users per second: 31661</pre>"
      ],
      "text/plain": [
       "recommendations finished on 20000/22873 queries. users per second: 31661"
      ]
     },
     "metadata": {},
     "output_type": "display_data"
    },
    {
     "data": {
      "text/html": [
       "<pre>recommendations finished on 21000/22873 queries. users per second: 32114.6</pre>"
      ],
      "text/plain": [
       "recommendations finished on 21000/22873 queries. users per second: 32114.6"
      ]
     },
     "metadata": {},
     "output_type": "display_data"
    },
    {
     "data": {
      "text/html": [
       "<pre>recommendations finished on 22000/22873 queries. users per second: 31713.2</pre>"
      ],
      "text/plain": [
       "recommendations finished on 22000/22873 queries. users per second: 31713.2"
      ]
     },
     "metadata": {},
     "output_type": "display_data"
    }
   ],
   "source": [
    "#Recommend dengan k sebanyak jumlah kupon yang tersedia\n",
    "res = model.recommend(users, k=len(cl_test), items=items).to_dataframe()"
   ]
  },
  {
   "cell_type": "code",
   "execution_count": 17,
   "metadata": {},
   "outputs": [],
   "source": [
    "# Beri bonus skor untuk kupon yang pernah divisit user.\n",
    "\n",
    "visited_test['visit_bonus'] = 10000\n",
    "res = res.merge(visited_test, on=['USER_ID_hash', 'COUPON_ID_hash'], how='left')\n",
    "\n",
    "res.visit_bonus.fillna(0, inplace=True)\n",
    "res.score.fillna(res.score.min(), inplace=True)"
   ]
  },
  {
   "cell_type": "code",
   "execution_count": 18,
   "metadata": {},
   "outputs": [],
   "source": [
    "# Sort skor kembali\n",
    "\n",
    "res['final_score'] = res['score'] + res['visit_bonus']\n",
    "\n",
    "res.sort_values(by='final_score', ascending=False, inplace=True)"
   ]
  },
  {
   "cell_type": "markdown",
   "metadata": {},
   "source": [
    "# Convert to Submission Format"
   ]
  },
  {
   "cell_type": "code",
   "execution_count": 19,
   "metadata": {},
   "outputs": [],
   "source": [
    "def clean_prediction(row):\n",
    "    data = row.PURCHASED_COUPONS[:10]\n",
    "    data = str(\"\".join(str(data))[2:-2].replace(\"', '\",\" \"))\n",
    "    return data"
   ]
  },
  {
   "cell_type": "code",
   "execution_count": 20,
   "metadata": {},
   "outputs": [],
   "source": [
    "res = res.groupby('USER_ID_hash')['COUPON_ID_hash'].apply(list).reset_index(name='PURCHASED_COUPONS')"
   ]
  },
  {
   "cell_type": "code",
   "execution_count": 21,
   "metadata": {},
   "outputs": [],
   "source": [
    "res['PURCHASED_COUPONS'] = res.apply(clean_prediction, axis=1)"
   ]
  },
  {
   "cell_type": "code",
   "execution_count": 22,
   "metadata": {},
   "outputs": [],
   "source": [
    "sub_name = 'submission/sub_CPP_turi_ItemContentRec_'+str(int(time.time()))+'.csv'\n",
    "\n",
    "res.to_csv(sub_name, index=False)"
   ]
  },
  {
   "cell_type": "code",
   "execution_count": 23,
   "metadata": {
    "scrolled": true
   },
   "outputs": [
    {
     "data": {
      "text/html": [
       "<div>\n",
       "<style scoped>\n",
       "    .dataframe tbody tr th:only-of-type {\n",
       "        vertical-align: middle;\n",
       "    }\n",
       "\n",
       "    .dataframe tbody tr th {\n",
       "        vertical-align: top;\n",
       "    }\n",
       "\n",
       "    .dataframe thead th {\n",
       "        text-align: right;\n",
       "    }\n",
       "</style>\n",
       "<table border=\"1\" class=\"dataframe\">\n",
       "  <thead>\n",
       "    <tr style=\"text-align: right;\">\n",
       "      <th></th>\n",
       "      <th>USER_ID_hash</th>\n",
       "      <th>PURCHASED_COUPONS</th>\n",
       "    </tr>\n",
       "  </thead>\n",
       "  <tbody>\n",
       "    <tr>\n",
       "      <th>0</th>\n",
       "      <td>0000b53e182165208887ba65c079fc21</td>\n",
       "      <td>16a9c255c41dbeb9c8484dfc782a2a89 c76ea297ebd3a...</td>\n",
       "    </tr>\n",
       "    <tr>\n",
       "      <th>1</th>\n",
       "      <td>00035b86e6884589ec8d28fbf2fe7757</td>\n",
       "      <td>f5a77f2907876411752d58e1b9030023 7792efbb9eb86...</td>\n",
       "    </tr>\n",
       "    <tr>\n",
       "      <th>2</th>\n",
       "      <td>0005b1068d5f2b8f2a7c978fcfe1ca06</td>\n",
       "      <td>0c015306597566b632bebfb63b7e59f3 b0a17a6d92b78...</td>\n",
       "    </tr>\n",
       "    <tr>\n",
       "      <th>3</th>\n",
       "      <td>000cc06982785a19e2a2fdb40b1c9d59</td>\n",
       "      <td>c988d799bc7db9254fe865ee6cf2d4ff ea370226d85d0...</td>\n",
       "    </tr>\n",
       "    <tr>\n",
       "      <th>4</th>\n",
       "      <td>0013518e41c416cd6a181d277dd8ca0b</td>\n",
       "      <td>c988d799bc7db9254fe865ee6cf2d4ff 63eeb16b672d0...</td>\n",
       "    </tr>\n",
       "    <tr>\n",
       "      <th>5</th>\n",
       "      <td>001acdee812a18acfd7509172bed5700</td>\n",
       "      <td>f25c0927423d87a8403f474c2f09f339 df5155df3dc03...</td>\n",
       "    </tr>\n",
       "    <tr>\n",
       "      <th>6</th>\n",
       "      <td>001fd7876e3aa29393537c6baf308e43</td>\n",
       "      <td>cb4c67c749dc53afd24aea31de705108 6940e1d50cb76...</td>\n",
       "    </tr>\n",
       "    <tr>\n",
       "      <th>7</th>\n",
       "      <td>002383753c1e5d6305c8aff6f89e26d6</td>\n",
       "      <td>691ac7cbfd8359eb01c93cf44da1416d dc23d9b9f9cf7...</td>\n",
       "    </tr>\n",
       "    <tr>\n",
       "      <th>8</th>\n",
       "      <td>0025cae7997d25ea5cf8851bb099c798</td>\n",
       "      <td>e0e86297922c5799ee19881ca999b81d d1da92a020c07...</td>\n",
       "    </tr>\n",
       "    <tr>\n",
       "      <th>9</th>\n",
       "      <td>002822059a01d895fad84f2f2ff5c1f1</td>\n",
       "      <td>e4db7645ae556f252e60636df7c8eac8 79de77aa8c36f...</td>\n",
       "    </tr>\n",
       "  </tbody>\n",
       "</table>\n",
       "</div>"
      ],
      "text/plain": [
       "                       USER_ID_hash  \\\n",
       "0  0000b53e182165208887ba65c079fc21   \n",
       "1  00035b86e6884589ec8d28fbf2fe7757   \n",
       "2  0005b1068d5f2b8f2a7c978fcfe1ca06   \n",
       "3  000cc06982785a19e2a2fdb40b1c9d59   \n",
       "4  0013518e41c416cd6a181d277dd8ca0b   \n",
       "5  001acdee812a18acfd7509172bed5700   \n",
       "6  001fd7876e3aa29393537c6baf308e43   \n",
       "7  002383753c1e5d6305c8aff6f89e26d6   \n",
       "8  0025cae7997d25ea5cf8851bb099c798   \n",
       "9  002822059a01d895fad84f2f2ff5c1f1   \n",
       "\n",
       "                                   PURCHASED_COUPONS  \n",
       "0  16a9c255c41dbeb9c8484dfc782a2a89 c76ea297ebd3a...  \n",
       "1  f5a77f2907876411752d58e1b9030023 7792efbb9eb86...  \n",
       "2  0c015306597566b632bebfb63b7e59f3 b0a17a6d92b78...  \n",
       "3  c988d799bc7db9254fe865ee6cf2d4ff ea370226d85d0...  \n",
       "4  c988d799bc7db9254fe865ee6cf2d4ff 63eeb16b672d0...  \n",
       "5  f25c0927423d87a8403f474c2f09f339 df5155df3dc03...  \n",
       "6  cb4c67c749dc53afd24aea31de705108 6940e1d50cb76...  \n",
       "7  691ac7cbfd8359eb01c93cf44da1416d dc23d9b9f9cf7...  \n",
       "8  e0e86297922c5799ee19881ca999b81d d1da92a020c07...  \n",
       "9  e4db7645ae556f252e60636df7c8eac8 79de77aa8c36f...  "
      ]
     },
     "execution_count": 23,
     "metadata": {},
     "output_type": "execute_result"
    }
   ],
   "source": [
    "res.head(10)"
   ]
  },
  {
   "cell_type": "markdown",
   "metadata": {},
   "source": [
    "## Submit to Kaggle"
   ]
  },
  {
   "cell_type": "code",
   "execution_count": 24,
   "metadata": {},
   "outputs": [
    {
     "name": "stdout",
     "output_type": "stream",
     "text": [
      "100%|███████████████████████████████████████| 7.92M/7.92M [00:35<00:00, 233kB/s]\n",
      "Successfully submitted to Coupon Purchase Prediction\n",
      "\n",
      "submission/sub_CPP_turi_ItemContentRec_1591012590.csv\n",
      "Private : 0.00636\t|\tPublic : 0.00855\n"
     ]
    }
   ],
   "source": [
    "#Submit ke kaggle, opsional\n",
    "try:\n",
    "    import kaggle\n",
    "    !kaggle competitions submit -c coupon-purchase-prediction -f $sub_name -m $sub_name\n",
    "\n",
    "    found = False\n",
    "    time_out_counter = time.time()\n",
    "\n",
    "    while 1:\n",
    "        submission_list = !kaggle competitions submissions -c coupon-purchase-prediction\n",
    "        for sub_row in submission_list:\n",
    "            if sub_name in sub_row and 'complete' in sub_row:\n",
    "                scores = sub_row[sub_row.find('complete')+10:].split()\n",
    "                print('\\n\\n',sub_name,'\\nPrivate : ',scores[1],'\\t|\\tPublic : ',scores[0], sep='')\n",
    "                found = True\n",
    "                break\n",
    "            if (time.time()-time_out_counter) > 180:\n",
    "                print('\\n\\nTime Limit Exceeded (3 min)\\nPlease check again later on :\\nhttps://www.kaggle.com/c/coupon-purchase-prediction/submissions')\n",
    "                found = True\n",
    "                break\n",
    "        if found:\n",
    "            break\n",
    "        time.sleep(3)\n",
    "except:\n",
    "    print('Kaggle API not found')"
   ]
  },
  {
   "cell_type": "code",
   "execution_count": 25,
   "metadata": {},
   "outputs": [
    {
     "name": "stdout",
     "output_type": "stream",
     "text": [
      "Duration (H:M:S): 00:01:46\n"
     ]
    }
   ],
   "source": [
    "print('Duration (H:M:S):',time.strftime('%H:%M:%S', time.gmtime(time.time()-t_start)))"
   ]
  }
 ],
 "metadata": {
  "kernelspec": {
   "display_name": "Python 3",
   "language": "python",
   "name": "python3"
  },
  "language_info": {
   "codemirror_mode": {
    "name": "ipython",
    "version": 3
   },
   "file_extension": ".py",
   "mimetype": "text/x-python",
   "name": "python",
   "nbconvert_exporter": "python",
   "pygments_lexer": "ipython3",
   "version": "3.7.7"
  }
 },
 "nbformat": 4,
 "nbformat_minor": 4
}
